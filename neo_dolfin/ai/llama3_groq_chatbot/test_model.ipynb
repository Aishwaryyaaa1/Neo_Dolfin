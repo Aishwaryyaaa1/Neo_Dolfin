{
 "cells": [
  {
   "cell_type": "code",
   "execution_count": null,
   "id": "820343a3-79bf-4a3a-ac15-35bfde71fcc9",
   "metadata": {},
   "outputs": [],
   "source": [
    "import json\n",
    "import time\n",
    "from groq import Groq\n",
    "\n",
    "with open(\"PUT_YOUR_API_KEY_HERE.json\") as j: #modify file to accomodate your api key obtained from https://console.groq.com/keys\n",
    "    credential = json.load(j)\n",
    "\n",
    "client = Groq(api_key = credential[\"groq_key\"])\n",
    "\n",
    "while True:\n",
    "    user_input = input(\"Enter a query: \")\n",
    "    start_time = time.time()\n",
    "    stream = client.chat.completions.create(\n",
    "        messages=[\n",
    "            {\n",
    "                \"role\": \"system\",\n",
    "                \"content\": \"you are a helpful assistant. Answer as Albert Einstein.\"\n",
    "            },\n",
    "            {\n",
    "                \"role\": \"user\",\n",
    "                \"content\": user_input\n",
    "            }\n",
    "        ],\n",
    "        model=\"llama3-70b-8192\",\n",
    "        temperature=1,\n",
    "        max_tokens=4096, # experiment with different values for longer chats\n",
    "        top_p=1,\n",
    "        stream=True\n",
    "    )\n",
    "    \n",
    "\n",
    "    # print incremental deltas returned by the LLM\n",
    "    time_before_chunk = time.time()\n",
    "    for chunk in stream: \n",
    "        delta_content = chunk.choices[0].delta.content\n",
    "        if delta_content:  # only print non-empty chunks\n",
    "            print(delta_content, end=\"\", flush=True)\n",
    "            \n",
    "    time_after_chunk = time.time()\n",
    "    \n",
    "    # metrics\n",
    "    print(f\"\\n{'-' * 60}\\nTime taken to start responding:\\t{(time_before_chunk - start_time):.5f} secs,\")\n",
    "    print(f\"Total complete response time:\\t{(time_after_chunk-start_time):.5f} secs.\\t{'-' * 60}\")"
   ]
  }
 ],
 "metadata": {
  "kernelspec": {
   "display_name": "Python 3 (ipykernel)",
   "language": "python",
   "name": "python3"
  },
  "language_info": {
   "codemirror_mode": {
    "name": "ipython",
    "version": 3
   },
   "file_extension": ".py",
   "mimetype": "text/x-python",
   "name": "python",
   "nbconvert_exporter": "python",
   "pygments_lexer": "ipython3",
   "version": "3.11.9"
  }
 },
 "nbformat": 4,
 "nbformat_minor": 5
}
